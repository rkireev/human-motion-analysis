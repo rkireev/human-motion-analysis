{
 "cells": [
  {
   "cell_type": "code",
   "execution_count": 1,
   "metadata": {
    "collapsed": true
   },
   "outputs": [],
   "source": [
    "from data_lib.data_lib import *"
   ]
  },
  {
   "cell_type": "code",
   "execution_count": 2,
   "metadata": {
    "collapsed": true
   },
   "outputs": [],
   "source": [
    "some_letters = read_data('AOMBPZKCEF.csv')"
   ]
  },
  {
   "cell_type": "code",
   "execution_count": 3,
   "metadata": {
    "collapsed": true
   },
   "outputs": [],
   "source": [
    "letters_map = {'A':1,'O':2,'M':3,'B':4,'P':5,'Z':6,'K':7,'C':8,'E':13,'F':14}"
   ]
  },
  {
   "cell_type": "code",
   "execution_count": 4,
   "metadata": {
    "collapsed": true
   },
   "outputs": [],
   "source": [
    "gests = read_data('data2.csv')"
   ]
  },
  {
   "cell_type": "code",
   "execution_count": 5,
   "metadata": {
    "collapsed": false
   },
   "outputs": [
    {
     "name": "stderr",
     "output_type": "stream",
     "text": [
      "Using Theano backend.\n"
     ]
    }
   ],
   "source": [
    "from keras.models import Sequential\n",
    "from keras.layers import Dense, Dropout, Activation, Reshape\n",
    "from keras.layers import LSTM"
   ]
  },
  {
   "cell_type": "code",
   "execution_count": 6,
   "metadata": {
    "collapsed": false
   },
   "outputs": [],
   "source": [
    "n_units=100\n",
    "n_features=3\n",
    "n_epoch=10\n",
    "model = Sequential()  # Creates a model\n",
    "model.add(LSTM(n_units, input_dim=n_features)) \n",
    "model.add(Dense(16, activation='sigmoid'))  # Kind of output layer\n",
    "model.compile(loss='categorical_crossentropy',optimizer='rmsprop',metrics=['accuracy'])"
   ]
  },
  {
   "cell_type": "code",
   "execution_count": 7,
   "metadata": {
    "collapsed": true
   },
   "outputs": [],
   "source": [
    "model.load_weights('gests_lstm_weights')"
   ]
  },
  {
   "cell_type": "code",
   "execution_count": 8,
   "metadata": {
    "collapsed": false
   },
   "outputs": [],
   "source": [
    "def letters_predicted_sequences(model, letters, win_size=15, proba_threshold=0.5):\n",
    "    X = []\n",
    "    letters_array, y = array_from_dict(letters, ndots=-1, gyro=False)\n",
    "    for letter in letters_array:\n",
    "        seq = []\n",
    "        k = 0\n",
    "        while len(letter[0])>k+win_size:\n",
    "            p = model.predict_proba(np.array([letter[0][k:k+win_size]]), verbose=0)[0]\n",
    "            p = p / np.sum(p)\n",
    "            p = np.where(p > 0.5)[0]\n",
    "            if p:\n",
    "                seq.append(p)\n",
    "            k += 1\n",
    "        X.append(np.array([seq]))\n",
    "    return X, y\n",
    "        "
   ]
  },
  {
   "cell_type": "code",
   "execution_count": 9,
   "metadata": {
    "collapsed": true
   },
   "outputs": [],
   "source": [
    "some_letters = add_noise(some_letters, 0.5, 100)"
   ]
  },
  {
   "cell_type": "code",
   "execution_count": 10,
   "metadata": {
    "collapsed": false
   },
   "outputs": [],
   "source": [
    "r,t = letters_predicted_sequences(model, some_letters)"
   ]
  },
  {
   "cell_type": "code",
   "execution_count": 11,
   "metadata": {
    "collapsed": false
   },
   "outputs": [],
   "source": [
    "bufx, bufy = [],[]\n",
    "for (x,y) in zip(r, t):\n",
    "    if x[0].shape[0]!=0:\n",
    "        bufx.append(x)\n",
    "        bufy.append(y)\n",
    "r=bufx\n",
    "t=bufy"
   ]
  },
  {
   "cell_type": "code",
   "execution_count": 12,
   "metadata": {
    "collapsed": true
   },
   "outputs": [],
   "source": [
    "map_eee = {1:1,2:2,3:3,4:4,5:5,6:6,7:7,8:8,13:9,14:10}"
   ]
  },
  {
   "cell_type": "code",
   "execution_count": 13,
   "metadata": {
    "collapsed": true
   },
   "outputs": [],
   "source": [
    "t1 = np.array([map_eee[x] for x in t])"
   ]
  },
  {
   "cell_type": "code",
   "execution_count": 14,
   "metadata": {
    "collapsed": false
   },
   "outputs": [],
   "source": [
    "b = np.zeros((len(t), 10))\n",
    "b[np.arange(len(t)), t1-1] = 1\n",
    "t1=b"
   ]
  },
  {
   "cell_type": "code",
   "execution_count": 15,
   "metadata": {
    "collapsed": true
   },
   "outputs": [],
   "source": [
    "n_units=50\n",
    "n_features=1\n",
    "n_epoch=7\n",
    "model1 = Sequential()  # Creates a model\n",
    "model1.add(LSTM(n_units, input_dim=n_features)) \n",
    "model1.add(Dense(10, activation='sigmoid'))  # Kind of output layer\n",
    "model1.compile(loss='categorical_crossentropy',optimizer='rmsprop',metrics=['accuracy'])"
   ]
  },
  {
   "cell_type": "code",
   "execution_count": 16,
   "metadata": {
    "collapsed": false
   },
   "outputs": [
    {
     "name": "stdout",
     "output_type": "stream",
     "text": [
      "____________________________________________________________________________________________________\n",
      "Layer (type)                     Output Shape          Param #     Connected to                     \n",
      "====================================================================================================\n",
      "lstm_2 (LSTM)                    (None, 50)            10400       lstm_input_2[0][0]               \n",
      "____________________________________________________________________________________________________\n",
      "dense_2 (Dense)                  (None, 10)            510         lstm_2[0][0]                     \n",
      "====================================================================================================\n",
      "Total params: 10910\n",
      "____________________________________________________________________________________________________\n",
      "None\n"
     ]
    }
   ],
   "source": [
    "print(model1.summary())"
   ]
  },
  {
   "cell_type": "code",
   "execution_count": 17,
   "metadata": {
    "collapsed": false
   },
   "outputs": [],
   "source": [
    "from sklearn.cross_validation import train_test_split\n",
    "X_train, X_test, y_train, y_test = train_test_split(r, t1, test_size=0.2)\n",
    "\n",
    "for seq, label in zip(X_train, y_train):\n",
    "    label = label.reshape((1, -1))\n",
    "    model1.fit(seq, label, nb_epoch=n_epoch, batch_size=1, verbose=0)"
   ]
  },
  {
   "cell_type": "code",
   "execution_count": 18,
   "metadata": {
    "collapsed": false
   },
   "outputs": [],
   "source": [
    "y_pred = []\n",
    "y_true = []\n",
    "scores = []\n",
    "for seq, label in zip(X_test, y_test):\n",
    "    label = label.reshape((1, -1))\n",
    "    scores.append(model1.evaluate(seq, label, verbose=0)[1])\n",
    "    y_pred.append(model1.predict_classes(seq, verbose=0)[0])\n",
    "    y_true.append(np.where(label == 1)[1][0])"
   ]
  },
  {
   "cell_type": "code",
   "execution_count": 19,
   "metadata": {
    "collapsed": false
   },
   "outputs": [
    {
     "data": {
      "text/plain": [
       "0.70909090909090911"
      ]
     },
     "execution_count": 19,
     "metadata": {},
     "output_type": "execute_result"
    }
   ],
   "source": [
    "np.mean(scores)"
   ]
  },
  {
   "cell_type": "code",
   "execution_count": null,
   "metadata": {
    "collapsed": true
   },
   "outputs": [],
   "source": []
  }
 ],
 "metadata": {
  "kernelspec": {
   "display_name": "Python [Root]",
   "language": "python",
   "name": "Python [Root]"
  },
  "language_info": {
   "codemirror_mode": {
    "name": "ipython",
    "version": 2
   },
   "file_extension": ".py",
   "mimetype": "text/x-python",
   "name": "python",
   "nbconvert_exporter": "python",
   "pygments_lexer": "ipython2",
   "version": "2.7.12"
  }
 },
 "nbformat": 4,
 "nbformat_minor": 0
}
