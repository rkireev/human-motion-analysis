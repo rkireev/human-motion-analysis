{
 "cells": [
  {
   "cell_type": "code",
   "execution_count": 1,
   "metadata": {
    "collapsed": false
   },
   "outputs": [],
   "source": []
  },
  {
   "cell_type": "code",
   "execution_count": 318,
   "metadata": {
    "collapsed": false
   },
   "outputs": [],
   "source": [
    "import csv\n",
    "import matplotlib.pyplot as plt\n",
    "import numpy as np\n",
    "from scipy.fftpack import fft\n",
    "from scipy.cluster.vq import vq, kmeans, whiten\n",
    "from scipy.interpolate import interp1d\n",
    "from sklearn.cross_validation import KFold\n",
    "\n",
    "Xcon = []\n",
    "Ycon = []\n",
    "Zcon = []\n",
    "target = []\n",
    "with open('dataqm30.csv', 'rb') as csvfile:\n",
    "    letter = ''\n",
    "    reader = csv.reader(csvfile, delimiter=',', quotechar='|')\n",
    "    for row in reader:\n",
    "        letter = row[-1]\n",
    "        target.append(letter)\n",
    "        del row[-1]\n",
    "        frow = np.array(map(float, row))\n",
    "        Xcon.append(np.array(frow[range(0,len(row),3)]))\n",
    "        Ycon.append(np.array(frow[range(1,len(row),3)]))\n",
    "        Zcon.append(np.array(frow[range(2,len(row),3)]))\n",
    "target = np.array(target)"
   ]
  },
  {
   "cell_type": "code",
   "execution_count": 31,
   "metadata": {
    "collapsed": true
   },
   "outputs": [],
   "source": [
    "def inter(Obs, ndots=100):\n",
    "    interpolated = []\n",
    "    for obs in Obs:\n",
    "        x = np.linspace(0, 100, num=obs.shape[0], endpoint=True)\n",
    "        f = interp1d(x, obs, kind='slinear')\n",
    "        xnew = np.linspace(0, 100, num=ndots, endpoint=True)\n",
    "        interpolated.append(f(xnew))\n",
    "    return interpolated"
   ]
  },
  {
   "cell_type": "code",
   "execution_count": 32,
   "metadata": {
    "collapsed": true
   },
   "outputs": [],
   "source": [
    "def partition_magic(Obs, n):\n",
    "    P = []\n",
    "    for x in Obs:\n",
    "        xm = np.zeros(n)\n",
    "        parts = [len(x)/n]*n\n",
    "        for i in range(int(round(len(x)%n))):\n",
    "            parts[i] += 1\n",
    "        parts_sum = 0\n",
    "        for i in range(len(parts)):\n",
    "            part = parts[i]\n",
    "            xm[i] = np.mean(x[parts_sum:parts_sum+part])\n",
    "            parts_sum += part\n",
    "        P.append(xm)\n",
    "    return np.array(P)"
   ]
  },
  {
   "cell_type": "code",
   "execution_count": 33,
   "metadata": {
    "collapsed": false
   },
   "outputs": [],
   "source": [
    "def windowing_and_fourier(X, win_size, win_step):\n",
    "    Y = []\n",
    "    features = []\n",
    "    for x in X:\n",
    "        win = np.hamming(win_size)\n",
    "        y = []\n",
    "        for j in xrange(0, x.shape[0]-win_size, win_step):\n",
    "            a = win * x[j:j+win_size]\n",
    "            a = np.abs(fft(a)) # amplitude spectrum\n",
    "            #print a.shape\n",
    "            y.append(a)\n",
    "            features.append(a)\n",
    "        Y.append(np.array(y))\n",
    "    return np.array(Y), features"
   ]
  },
  {
   "cell_type": "code",
   "execution_count": 34,
   "metadata": {
    "collapsed": false
   },
   "outputs": [],
   "source": [
    "def diff_sign(X, win_size):\n",
    "    Y = []\n",
    "    features = []\n",
    "    for x in X:\n",
    "        y = []\n",
    "        for j in xrange(0, x.shape[0]-win_size, win_size):\n",
    "            a = x[j:j+win_size]\n",
    "            #a=np.log(a*a)\n",
    "            y.append(a)\n",
    "            features.append(a)\n",
    "        Y.append(np.array(y))\n",
    "    return np.array(Y), features"
   ]
  },
  {
   "cell_type": "code",
   "execution_count": 35,
   "metadata": {
    "collapsed": true
   },
   "outputs": [],
   "source": [
    "def diff_part(Obs, n):\n",
    "    P = []\n",
    "    features= []\n",
    "    for x in Obs:\n",
    "        dx = np.diff(x)\n",
    "        ddx = np.diff(x)\n",
    "        xm = []\n",
    "        parts = [len(x)/n]*n\n",
    "        for i in range(int(round(len(x)%n))):\n",
    "            parts[i] += 1\n",
    "        parts_sum = 0\n",
    "        for i in range(len(parts)):\n",
    "            part = parts[i]\n",
    "            a = x[parts_sum:parts_sum+part]\n",
    "            #a = np.nan_to_num(np.concatenate((np.abs(fft(a))[np.abs(fft(a)).argsort()[:2]], \n",
    "            a = np.nan_to_num([np.mean(a),\n",
    "                               #x[parts_sum]-x[parts_sum+part-1],\n",
    "                               np.std(a),\n",
    "                               np.mean(dx[parts_sum:parts_sum+part-1]),\n",
    "                               np.mean(ddx[parts_sum:parts_sum+part-2])])#))\n",
    "            xm.append(a)\n",
    "            parts_sum += part\n",
    "            features.append(a)\n",
    "        xm = np.array(xm)\n",
    "        P.append(xm)\n",
    "    return np.array(P), features"
   ]
  },
  {
   "cell_type": "code",
   "execution_count": 36,
   "metadata": {
    "collapsed": false
   },
   "outputs": [],
   "source": [
    "def quantization(Obs, k=2, method='wf', win_size=10, win_step=10):\n",
    "    coded_obs = []\n",
    "    Obs = inter(Obs)\n",
    "    if method=='wf':\n",
    "        Obs, features = windowing_and_fourier(Obs, win_size, win_step)\n",
    "        codebook, distortion = kmeans(whiten(features),k)\n",
    "        for o in Obs:\n",
    "            codes, disr = vq(o, codebook)\n",
    "            coded_obs.append(codes)\n",
    "    if method=='ds':\n",
    "        Obs, features = diff_sign(Obs, win_size)\n",
    "        codebook, distortion = kmeans(whiten(features),k)\n",
    "        for o in Obs:\n",
    "            codes, disr = vq(o, codebook)\n",
    "            coded_obs.append(codes)\n",
    "    if method=='dp':\n",
    "        Obs, features = diff_part(Obs, win_size)\n",
    "        codebook, distortion = kmeans(whiten(features),k)\n",
    "        for o in Obs:\n",
    "            codes, disr = vq(o, codebook)\n",
    "            coded_obs.append(codes)\n",
    "    return np.array(coded_obs)"
   ]
  },
  {
   "cell_type": "code",
   "execution_count": null,
   "metadata": {
    "collapsed": false,
    "scrolled": true
   },
   "outputs": [],
   "source": []
  },
  {
   "cell_type": "code",
   "execution_count": 37,
   "metadata": {
    "collapsed": false
   },
   "outputs": [],
   "source": [
    "coded_X = quantization(Xcon, k=25, method='ds', win_size=10)\n",
    "coded_Y = quantization(Ycon, k=25, method='ds', win_size=10)\n",
    "coded_Z = quantization(Zcon, k=25, method='ds', win_size=10)\n",
    "#coded_X = quantization(Xcon, k=70, method='wf', win_size=20, win_step=10)\n",
    "#coded_Y = quantization(Y, 8)\n",
    "#coded_Z = quantization(Z, 8)"
   ]
  },
  {
   "cell_type": "code",
   "execution_count": 40,
   "metadata": {
    "collapsed": false
   },
   "outputs": [],
   "source": [
    "kf = KFold(len(Xcon), n_folds=10, shuffle=True)\n",
    "coonter = 0\n",
    "\n",
    "for train_index, test_index in kf:\n",
    "    #print(\"TRAIN:\", train_index, \"TEST:\", test_index)\n",
    "    coonter += 1\n",
    "    X_train, X_test = coded_X[train_index], coded_X[test_index]\n",
    "    Y_train, Y_test = coded_Y[train_index], coded_Y[test_index]\n",
    "    Z_train, Z_test = coded_Z[train_index], coded_Z[test_index]\n",
    "    target_train, target_test = target[train_index], target[test_index]\n",
    "    write_csv('X', X_train, X_test, target_train, target_test, coonter)\n",
    "    write_csv('Y', Y_train, Y_test, target_train, target_test, coonter)\n",
    "    write_csv('Z', Y_train, Y_test, target_train, target_test, coonter)"
   ]
  },
  {
   "cell_type": "code",
   "execution_count": null,
   "metadata": {
    "collapsed": false
   },
   "outputs": [],
   "source": []
  },
  {
   "cell_type": "code",
   "execution_count": null,
   "metadata": {
    "collapsed": false
   },
   "outputs": [],
   "source": []
  },
  {
   "cell_type": "code",
   "execution_count": 39,
   "metadata": {
    "collapsed": false
   },
   "outputs": [],
   "source": [
    "def write_csv(axis, X_train, X_test, target_train, target_test, n):\n",
    "    f = open('cv//train'+axis+str(n)+'.csv','w')\n",
    "    str1 = ''\n",
    "    for i in range(X_train.shape[0]):\n",
    "        str1 = ''\n",
    "        for val in X_train[i]:\n",
    "            str1 += str(val)+','\n",
    "        str1 += target_train[i][1]+'\\n'\n",
    "        f.write(str1)\n",
    "    f.close()\n",
    "    f = open('cv//test'+axis+str(n)+'.csv','w')\n",
    "    str1 = ''\n",
    "    for i in range(X_test.shape[0]):\n",
    "        str1 = ''\n",
    "        for val in X_test[i]:\n",
    "            str1 += str(val)+','\n",
    "        str1 += target_test[i][1]+'\\n'\n",
    "        f.write(str1)\n",
    "    f.close()"
   ]
  },
  {
   "cell_type": "code",
   "execution_count": 337,
   "metadata": {
    "collapsed": false
   },
   "outputs": [
    {
     "name": "stdout",
     "output_type": "stream",
     "text": [
      "0.951377351006\n"
     ]
    }
   ],
   "source": [
    "from sklearn import cross_validation\n",
    "from sklearn.ensemble import RandomForestClassifier\n",
    "from sklearn.svm import SVC\n",
    "from sklearn.neighbors import KNeighborsClassifier\n",
    "from sklearn.linear_model import LogisticRegression\n",
    "from sklearn.naive_bayes import MultinomialNB\n",
    "from sklearn.ensemble import GradientBoostingClassifier\n",
    " \n",
    "def interfu(Obs, ndots=100):\n",
    "    interpolated = []\n",
    "    for obs in Obs:\n",
    "        l = len(obs)\n",
    "        step = 1.0*l/ndots\n",
    "        xnew = []\n",
    "        i = 0\n",
    "        while (i < l-1):\n",
    "            a = int(i + 0.5)\n",
    "            xnew.append(obs[a])\n",
    "            i = i + step\n",
    "        interpolated.append(xnew)\n",
    "    return interpolated\n",
    "def interfuf(Obs, ndots=100):\n",
    "    interpolated = []\n",
    "    for obs in Obs:\n",
    "        l = len(obs)\n",
    "        step = 1.0*l/ndots\n",
    "        xnew = []\n",
    "        i = 0\n",
    "        while (i < l-1):\n",
    "            a = int(i + 0.5)\n",
    "            if (i==0):\n",
    "                m = (obs[a]+obs[a+1])/2.0\n",
    "            if (i==l-2):\n",
    "                m = (obs[a-1]+obs[a])/2.0\n",
    "            if (i>0) and (i<l-2):\n",
    "                m = (obs[a-1]+obs[a]+obs[a+1])/3.0\n",
    "            xnew.append(m)\n",
    "            i = i + step\n",
    "        interpolated.append(xnew)\n",
    "    return interpolated\n",
    "#clf = GradientBoostingClassifier()\n",
    "#clf = MultinomialNB()\n",
    "clf = KNeighborsClassifier(n_neighbors=1)\n",
    "#clf = LogisticRegression()\n",
    "#clf = RandomForestClassifier(n_estimators=159)\n",
    "#clf = SVC(C=10.9, kernel='rbf')\n",
    "meta_scores = []\n",
    "\n",
    "X = interfuf(Xcon,20)\n",
    "Y = interfuf(Ycon,20)\n",
    "#clf = SVC(C=1, kernel='linear')\n",
    "C = []\n",
    "for i in range(len(X)):\n",
    "    C.append(np.concatenate((X[i],Y[i])))\n",
    "\n",
    "scores = cross_validation.cross_val_score(clf, C, target, cv=10)\n",
    "print np.mean(scores)\n",
    "meta_scores.append(np.mean(scores))\n"
   ]
  },
  {
   "cell_type": "code",
   "execution_count": 338,
   "metadata": {
    "collapsed": true
   },
   "outputs": [],
   "source": [
    "f = open('dataset.csv','w')\n",
    "str1 = ''\n",
    "for i in range(len(C)):\n",
    "    str1 = ''\n",
    "    for val in C[i]:\n",
    "        str1 += str(val)+','\n",
    "    str1 += target[i][1]+'\\n'\n",
    "    f.write(str1)\n",
    "f.close()"
   ]
  },
  {
   "cell_type": "code",
   "execution_count": 300,
   "metadata": {
    "collapsed": false
   },
   "outputs": [
    {
     "name": "stdout",
     "output_type": "stream",
     "text": [
      "1.0\n",
      "0.9875\n",
      "0.95\n",
      "0.925\n",
      "0.9625\n",
      "0.9875\n",
      "0.95\n",
      "0.9625\n",
      "0.95\n",
      "1.0\n"
     ]
    }
   ],
   "source": [
    "from fastdtw import fastdtw\n",
    "from scipy.spatial.distance import euclidean\n",
    "def euc_kernel(X, Y):\n",
    "    kern = []\n",
    "    for x in X:\n",
    "        row = []\n",
    "        for y in Y:\n",
    "            distance = 0\n",
    "            for i in range(20):\n",
    "                distance += euclidean([x[i], x[i+19]],[y[i], y[i+19]])\n",
    "            #distance,b,c = dtw(x, y)\n",
    "            row.append(np.exp(-distance/20.0))\n",
    "            #row.append(-distance)\n",
    "        kern.append(np.array(row))\n",
    "    #print kern\n",
    "    return np.array(kern)\n",
    "clf = SVC(C=10.0, kernel=euc_kernel)\n",
    "from sklearn.metrics import accuracy_score\n",
    "kf = KFold(len(Xcon), n_folds=10, shuffle=True)\n",
    "coonter = 0\n",
    "X = inter(Xcon,20)\n",
    "Y = inter(Ycon,20)\n",
    "C = []\n",
    "for i in range(len(X)):\n",
    "    C.append(np.concatenate((X[i],Y[i])))\n",
    "C = np.array(C)\n",
    "counter = 0       \n",
    "for train_index, test_index in kf:\n",
    "    #print(\"TRAIN:\", train_index, \"TEST:\", test_index)\n",
    "    X_train, X_test = C[train_index], C[test_index]\n",
    "    target_train, target_test = target[train_index], target[test_index]\n",
    "    clf.fit(X_train, target_train)\n",
    "    print accuracy_score(clf.predict(X_test),target_test)\n",
    "#gram = np.dot(X, X.T)\n",
    "#clf = SVC(kernel='precomputed')\n"
   ]
  },
  {
   "cell_type": "code",
   "execution_count": 226,
   "metadata": {
    "collapsed": false
   },
   "outputs": [
    {
     "name": "stdout",
     "output_type": "stream",
     "text": [
      "0.95\n",
      "0.9625\n"
     ]
    },
    {
     "ename": "KeyboardInterrupt",
     "evalue": "",
     "output_type": "error",
     "traceback": [
      "\u001b[1;31m---------------------------------------------------------------------------\u001b[0m",
      "\u001b[1;31mKeyboardInterrupt\u001b[0m                         Traceback (most recent call last)",
      "\u001b[1;32m<ipython-input-226-e43a7557dcb9>\u001b[0m in \u001b[0;36m<module>\u001b[1;34m()\u001b[0m\n\u001b[0;32m     19\u001b[0m             \u001b[0mdistance\u001b[0m\u001b[1;33m,\u001b[0m \u001b[0mpath\u001b[0m \u001b[1;33m=\u001b[0m \u001b[0mfastdtw\u001b[0m\u001b[1;33m(\u001b[0m\u001b[0mX\u001b[0m\u001b[1;33m[\u001b[0m\u001b[0ma\u001b[0m\u001b[1;33m]\u001b[0m\u001b[1;33m,\u001b[0m \u001b[0mX\u001b[0m\u001b[1;33m[\u001b[0m\u001b[0mb\u001b[0m\u001b[1;33m]\u001b[0m\u001b[1;33m,\u001b[0m \u001b[0mdist\u001b[0m\u001b[1;33m=\u001b[0m\u001b[0meuclidean\u001b[0m\u001b[1;33m)\u001b[0m\u001b[1;33m\u001b[0m\u001b[0m\n\u001b[0;32m     20\u001b[0m             \u001b[0mdistanceX\u001b[0m\u001b[1;33m.\u001b[0m\u001b[0mappend\u001b[0m\u001b[1;33m(\u001b[0m\u001b[0mdistance\u001b[0m\u001b[1;33m)\u001b[0m\u001b[1;33m\u001b[0m\u001b[0m\n\u001b[1;32m---> 21\u001b[1;33m             \u001b[0mdistance\u001b[0m\u001b[1;33m,\u001b[0m \u001b[0mpath\u001b[0m \u001b[1;33m=\u001b[0m \u001b[0mfastdtw\u001b[0m\u001b[1;33m(\u001b[0m\u001b[0mY\u001b[0m\u001b[1;33m[\u001b[0m\u001b[0ma\u001b[0m\u001b[1;33m]\u001b[0m\u001b[1;33m,\u001b[0m \u001b[0mY\u001b[0m\u001b[1;33m[\u001b[0m\u001b[0mb\u001b[0m\u001b[1;33m]\u001b[0m\u001b[1;33m,\u001b[0m \u001b[0mdist\u001b[0m\u001b[1;33m=\u001b[0m\u001b[0meuclidean\u001b[0m\u001b[1;33m)\u001b[0m\u001b[1;33m\u001b[0m\u001b[0m\n\u001b[0m\u001b[0;32m     22\u001b[0m             \u001b[0mdistanceY\u001b[0m\u001b[1;33m.\u001b[0m\u001b[0mappend\u001b[0m\u001b[1;33m(\u001b[0m\u001b[0mdistance\u001b[0m\u001b[1;33m)\u001b[0m\u001b[1;33m\u001b[0m\u001b[0m\n\u001b[0;32m     23\u001b[0m         \u001b[0mdistanceY\u001b[0m \u001b[1;33m=\u001b[0m \u001b[0mnp\u001b[0m\u001b[1;33m.\u001b[0m\u001b[0marray\u001b[0m\u001b[1;33m(\u001b[0m\u001b[0mdistanceY\u001b[0m\u001b[1;33m)\u001b[0m\u001b[1;33m\u001b[0m\u001b[0m\n",
      "\u001b[1;32mC:\\Users\\Ruslan\\Anaconda2\\lib\\site-packages\\fastdtw.pyc\u001b[0m in \u001b[0;36mfastdtw\u001b[1;34m(x, y, radius, dist)\u001b[0m\n\u001b[0;32m     18\u001b[0m     \u001b[0mdistance\u001b[0m\u001b[1;33m,\u001b[0m \u001b[0mpath\u001b[0m \u001b[1;33m=\u001b[0m \u001b[0mfastdtw\u001b[0m\u001b[1;33m(\u001b[0m\u001b[0mx_shrinked\u001b[0m\u001b[1;33m,\u001b[0m \u001b[0my_shrinked\u001b[0m\u001b[1;33m,\u001b[0m \u001b[0mradius\u001b[0m\u001b[1;33m=\u001b[0m\u001b[0mradius\u001b[0m\u001b[1;33m,\u001b[0m \u001b[0mdist\u001b[0m\u001b[1;33m=\u001b[0m\u001b[0mdist\u001b[0m\u001b[1;33m)\u001b[0m\u001b[1;33m\u001b[0m\u001b[0m\n\u001b[0;32m     19\u001b[0m     \u001b[0mwindow\u001b[0m \u001b[1;33m=\u001b[0m \u001b[0m__expand_window\u001b[0m\u001b[1;33m(\u001b[0m\u001b[0mpath\u001b[0m\u001b[1;33m,\u001b[0m \u001b[0mlen\u001b[0m\u001b[1;33m(\u001b[0m\u001b[0mx\u001b[0m\u001b[1;33m)\u001b[0m\u001b[1;33m,\u001b[0m \u001b[0mlen\u001b[0m\u001b[1;33m(\u001b[0m\u001b[0my\u001b[0m\u001b[1;33m)\u001b[0m\u001b[1;33m,\u001b[0m \u001b[0mradius\u001b[0m\u001b[1;33m)\u001b[0m\u001b[1;33m\u001b[0m\u001b[0m\n\u001b[1;32m---> 20\u001b[1;33m     \u001b[1;32mreturn\u001b[0m \u001b[0mdtw\u001b[0m\u001b[1;33m(\u001b[0m\u001b[0mx\u001b[0m\u001b[1;33m,\u001b[0m \u001b[0my\u001b[0m\u001b[1;33m,\u001b[0m \u001b[0mwindow\u001b[0m\u001b[1;33m,\u001b[0m \u001b[0mdist\u001b[0m\u001b[1;33m=\u001b[0m\u001b[0mdist\u001b[0m\u001b[1;33m)\u001b[0m\u001b[1;33m\u001b[0m\u001b[0m\n\u001b[0m\u001b[0;32m     21\u001b[0m \u001b[1;33m\u001b[0m\u001b[0m\n\u001b[0;32m     22\u001b[0m \u001b[1;33m\u001b[0m\u001b[0m\n",
      "\u001b[1;32mC:\\Users\\Ruslan\\Anaconda2\\lib\\site-packages\\fastdtw.pyc\u001b[0m in \u001b[0;36mdtw\u001b[1;34m(x, y, window, dist)\u001b[0m\n\u001b[0;32m     29\u001b[0m     \u001b[0mD\u001b[0m\u001b[1;33m[\u001b[0m\u001b[1;36m0\u001b[0m\u001b[1;33m,\u001b[0m \u001b[1;36m0\u001b[0m\u001b[1;33m]\u001b[0m \u001b[1;33m=\u001b[0m \u001b[1;33m(\u001b[0m\u001b[1;36m0\u001b[0m\u001b[1;33m,\u001b[0m \u001b[1;36m0\u001b[0m\u001b[1;33m,\u001b[0m \u001b[1;36m0\u001b[0m\u001b[1;33m)\u001b[0m\u001b[1;33m\u001b[0m\u001b[0m\n\u001b[0;32m     30\u001b[0m     \u001b[1;32mfor\u001b[0m \u001b[0mi\u001b[0m\u001b[1;33m,\u001b[0m \u001b[0mj\u001b[0m \u001b[1;32min\u001b[0m \u001b[0mwindow\u001b[0m\u001b[1;33m:\u001b[0m\u001b[1;33m\u001b[0m\u001b[0m\n\u001b[1;32m---> 31\u001b[1;33m         \u001b[0mdt\u001b[0m \u001b[1;33m=\u001b[0m \u001b[0mdist\u001b[0m\u001b[1;33m(\u001b[0m\u001b[0mx\u001b[0m\u001b[1;33m[\u001b[0m\u001b[0mi\u001b[0m\u001b[1;33m-\u001b[0m\u001b[1;36m1\u001b[0m\u001b[1;33m]\u001b[0m\u001b[1;33m,\u001b[0m \u001b[0my\u001b[0m\u001b[1;33m[\u001b[0m\u001b[0mj\u001b[0m\u001b[1;33m-\u001b[0m\u001b[1;36m1\u001b[0m\u001b[1;33m]\u001b[0m\u001b[1;33m)\u001b[0m\u001b[1;33m\u001b[0m\u001b[0m\n\u001b[0m\u001b[0;32m     32\u001b[0m         \u001b[0mD\u001b[0m\u001b[1;33m[\u001b[0m\u001b[0mi\u001b[0m\u001b[1;33m,\u001b[0m \u001b[0mj\u001b[0m\u001b[1;33m]\u001b[0m \u001b[1;33m=\u001b[0m \u001b[0mmin\u001b[0m\u001b[1;33m(\u001b[0m\u001b[1;33m(\u001b[0m\u001b[0mD\u001b[0m\u001b[1;33m[\u001b[0m\u001b[0mi\u001b[0m\u001b[1;33m-\u001b[0m\u001b[1;36m1\u001b[0m\u001b[1;33m,\u001b[0m \u001b[0mj\u001b[0m\u001b[1;33m]\u001b[0m\u001b[1;33m[\u001b[0m\u001b[1;36m0\u001b[0m\u001b[1;33m]\u001b[0m\u001b[1;33m+\u001b[0m\u001b[0mdt\u001b[0m\u001b[1;33m,\u001b[0m \u001b[0mi\u001b[0m\u001b[1;33m-\u001b[0m\u001b[1;36m1\u001b[0m\u001b[1;33m,\u001b[0m \u001b[0mj\u001b[0m\u001b[1;33m)\u001b[0m\u001b[1;33m,\u001b[0m \u001b[1;33m(\u001b[0m\u001b[0mD\u001b[0m\u001b[1;33m[\u001b[0m\u001b[0mi\u001b[0m\u001b[1;33m,\u001b[0m \u001b[0mj\u001b[0m\u001b[1;33m-\u001b[0m\u001b[1;36m1\u001b[0m\u001b[1;33m]\u001b[0m\u001b[1;33m[\u001b[0m\u001b[1;36m0\u001b[0m\u001b[1;33m]\u001b[0m\u001b[1;33m+\u001b[0m\u001b[0mdt\u001b[0m\u001b[1;33m,\u001b[0m \u001b[0mi\u001b[0m\u001b[1;33m,\u001b[0m \u001b[0mj\u001b[0m\u001b[1;33m-\u001b[0m\u001b[1;36m1\u001b[0m\u001b[1;33m)\u001b[0m\u001b[1;33m,\u001b[0m \u001b[1;33m(\u001b[0m\u001b[0mD\u001b[0m\u001b[1;33m[\u001b[0m\u001b[0mi\u001b[0m\u001b[1;33m-\u001b[0m\u001b[1;36m1\u001b[0m\u001b[1;33m,\u001b[0m \u001b[0mj\u001b[0m\u001b[1;33m-\u001b[0m\u001b[1;36m1\u001b[0m\u001b[1;33m]\u001b[0m\u001b[1;33m[\u001b[0m\u001b[1;36m0\u001b[0m\u001b[1;33m]\u001b[0m\u001b[1;33m+\u001b[0m\u001b[0mdt\u001b[0m\u001b[1;33m,\u001b[0m \u001b[0mi\u001b[0m\u001b[1;33m-\u001b[0m\u001b[1;36m1\u001b[0m\u001b[1;33m,\u001b[0m \u001b[0mj\u001b[0m\u001b[1;33m-\u001b[0m\u001b[1;36m1\u001b[0m\u001b[1;33m)\u001b[0m\u001b[1;33m,\u001b[0m \u001b[0mkey\u001b[0m\u001b[1;33m=\u001b[0m\u001b[1;32mlambda\u001b[0m \u001b[0ma\u001b[0m\u001b[1;33m:\u001b[0m \u001b[0ma\u001b[0m\u001b[1;33m[\u001b[0m\u001b[1;36m0\u001b[0m\u001b[1;33m]\u001b[0m\u001b[1;33m)\u001b[0m\u001b[1;33m\u001b[0m\u001b[0m\n\u001b[0;32m     33\u001b[0m     \u001b[0mpath\u001b[0m \u001b[1;33m=\u001b[0m \u001b[1;33m[\u001b[0m\u001b[1;33m]\u001b[0m\u001b[1;33m\u001b[0m\u001b[0m\n",
      "\u001b[1;32mC:\\Users\\Ruslan\\Anaconda2\\lib\\site-packages\\scipy\\spatial\\distance.pyc\u001b[0m in \u001b[0;36meuclidean\u001b[1;34m(u, v)\u001b[0m\n\u001b[0;32m    220\u001b[0m \u001b[1;33m\u001b[0m\u001b[0m\n\u001b[0;32m    221\u001b[0m     \"\"\"\n\u001b[1;32m--> 222\u001b[1;33m     \u001b[0mu\u001b[0m \u001b[1;33m=\u001b[0m \u001b[0m_validate_vector\u001b[0m\u001b[1;33m(\u001b[0m\u001b[0mu\u001b[0m\u001b[1;33m)\u001b[0m\u001b[1;33m\u001b[0m\u001b[0m\n\u001b[0m\u001b[0;32m    223\u001b[0m     \u001b[0mv\u001b[0m \u001b[1;33m=\u001b[0m \u001b[0m_validate_vector\u001b[0m\u001b[1;33m(\u001b[0m\u001b[0mv\u001b[0m\u001b[1;33m)\u001b[0m\u001b[1;33m\u001b[0m\u001b[0m\n\u001b[0;32m    224\u001b[0m     \u001b[0mdist\u001b[0m \u001b[1;33m=\u001b[0m \u001b[0mnorm\u001b[0m\u001b[1;33m(\u001b[0m\u001b[0mu\u001b[0m \u001b[1;33m-\u001b[0m \u001b[0mv\u001b[0m\u001b[1;33m)\u001b[0m\u001b[1;33m\u001b[0m\u001b[0m\n",
      "\u001b[1;32mC:\\Users\\Ruslan\\Anaconda2\\lib\\site-packages\\scipy\\spatial\\distance.pyc\u001b[0m in \u001b[0;36m_validate_vector\u001b[1;34m(u, dtype)\u001b[0m\n\u001b[0;32m    121\u001b[0m     \u001b[0mu\u001b[0m \u001b[1;33m=\u001b[0m \u001b[0mnp\u001b[0m\u001b[1;33m.\u001b[0m\u001b[0masarray\u001b[0m\u001b[1;33m(\u001b[0m\u001b[0mu\u001b[0m\u001b[1;33m,\u001b[0m \u001b[0mdtype\u001b[0m\u001b[1;33m=\u001b[0m\u001b[0mdtype\u001b[0m\u001b[1;33m,\u001b[0m \u001b[0morder\u001b[0m\u001b[1;33m=\u001b[0m\u001b[1;34m'c'\u001b[0m\u001b[1;33m)\u001b[0m\u001b[1;33m.\u001b[0m\u001b[0msqueeze\u001b[0m\u001b[1;33m(\u001b[0m\u001b[1;33m)\u001b[0m\u001b[1;33m\u001b[0m\u001b[0m\n\u001b[0;32m    122\u001b[0m     \u001b[1;31m# Ensure values such as u=1 and u=[1] still return 1-D arrays.\u001b[0m\u001b[1;33m\u001b[0m\u001b[1;33m\u001b[0m\u001b[0m\n\u001b[1;32m--> 123\u001b[1;33m     \u001b[0mu\u001b[0m \u001b[1;33m=\u001b[0m \u001b[0mnp\u001b[0m\u001b[1;33m.\u001b[0m\u001b[0matleast_1d\u001b[0m\u001b[1;33m(\u001b[0m\u001b[0mu\u001b[0m\u001b[1;33m)\u001b[0m\u001b[1;33m\u001b[0m\u001b[0m\n\u001b[0m\u001b[0;32m    124\u001b[0m     \u001b[1;32mif\u001b[0m \u001b[0mu\u001b[0m\u001b[1;33m.\u001b[0m\u001b[0mndim\u001b[0m \u001b[1;33m>\u001b[0m \u001b[1;36m1\u001b[0m\u001b[1;33m:\u001b[0m\u001b[1;33m\u001b[0m\u001b[0m\n\u001b[0;32m    125\u001b[0m         \u001b[1;32mraise\u001b[0m \u001b[0mValueError\u001b[0m\u001b[1;33m(\u001b[0m\u001b[1;34m\"Input vector should be 1-D.\"\u001b[0m\u001b[1;33m)\u001b[0m\u001b[1;33m\u001b[0m\u001b[0m\n",
      "\u001b[1;32mC:\\Users\\Ruslan\\Anaconda2\\lib\\site-packages\\numpy\\core\\shape_base.pyc\u001b[0m in \u001b[0;36matleast_1d\u001b[1;34m(*arys)\u001b[0m\n\u001b[0;32m     47\u001b[0m     \"\"\"\n\u001b[0;32m     48\u001b[0m     \u001b[0mres\u001b[0m \u001b[1;33m=\u001b[0m \u001b[1;33m[\u001b[0m\u001b[1;33m]\u001b[0m\u001b[1;33m\u001b[0m\u001b[0m\n\u001b[1;32m---> 49\u001b[1;33m     \u001b[1;32mfor\u001b[0m \u001b[0mary\u001b[0m \u001b[1;32min\u001b[0m \u001b[0marys\u001b[0m\u001b[1;33m:\u001b[0m\u001b[1;33m\u001b[0m\u001b[0m\n\u001b[0m\u001b[0;32m     50\u001b[0m         \u001b[0mary\u001b[0m \u001b[1;33m=\u001b[0m \u001b[0masanyarray\u001b[0m\u001b[1;33m(\u001b[0m\u001b[0mary\u001b[0m\u001b[1;33m)\u001b[0m\u001b[1;33m\u001b[0m\u001b[0m\n\u001b[0;32m     51\u001b[0m         \u001b[1;32mif\u001b[0m \u001b[0mlen\u001b[0m\u001b[1;33m(\u001b[0m\u001b[0mary\u001b[0m\u001b[1;33m.\u001b[0m\u001b[0mshape\u001b[0m\u001b[1;33m)\u001b[0m \u001b[1;33m==\u001b[0m \u001b[1;36m0\u001b[0m\u001b[1;33m:\u001b[0m\u001b[1;33m\u001b[0m\u001b[0m\n",
      "\u001b[1;31mKeyboardInterrupt\u001b[0m: "
     ]
    }
   ],
   "source": [
    "from collections import Counter\n",
    "kf = KFold(len(Xcon), n_folds=10, shuffle=True)\n",
    "X = inter(Xcon,20)\n",
    "Y = inter(Ycon,20)\n",
    "C = []\n",
    "for i in range(len(X)):\n",
    "    C.append(np.vstack((X[i],Y[i])).T)\n",
    "C = np.array(C)\n",
    "scores = []\n",
    "k = 3\n",
    "from fastdtw import fastdtw\n",
    "from scipy.spatial.distance import euclidean\n",
    "for train_index, test_index in kf:\n",
    "    #print len(test_index)\n",
    "    target_test = target[test_index]\n",
    "    predicted = []\n",
    "    for a in test_index:\n",
    "        min_dist = 100000\n",
    "        best_target = ''\n",
    "        distanceX = []\n",
    "        distanceY = []\n",
    "        for b in train_index:\n",
    "            distance, path = fastdtw(X[a], X[b], dist=euclidean)\n",
    "            distanceX.append(distance)\n",
    "            distance, path = fastdtw(Y[a], Y[b], dist=euclidean)\n",
    "            distanceY.append(distance)\n",
    "        distanceY = np.array(distanceY)\n",
    "        distanceX = np.array(distanceX)\n",
    "        arr = distanceX + distanceY\n",
    "        #print target[train_index[arr.argsort()[:k]]]\n",
    "        b = Counter(target[train_index[arr.argsort()[:k]]])\n",
    "        #print b.most_common(1)[0][0]\n",
    "        predicted.append(b.most_common(1)[0][0])\n",
    "    acc = 0\n",
    "    #print target_test, predicted\n",
    "    for i in range(len(target_test)):\n",
    "        if target_test[i] == predicted[i]:\n",
    "            acc += 1\n",
    "    acc = 1.0*acc/len(target_test)\n",
    "    print acc\n",
    "    scores.append(acc)\n",
    "print np.mean(scores)"
   ]
  },
  {
   "cell_type": "code",
   "execution_count": null,
   "metadata": {
    "collapsed": false
   },
   "outputs": [],
   "source": []
  },
  {
   "cell_type": "code",
   "execution_count": 220,
   "metadata": {
    "collapsed": true
   },
   "outputs": [],
   "source": [
    "from hmmlearn.hmm import GaussianHMM\n",
    "def HMM_acc(X_train, X_test, Y_train, Y_test, Z_train, Z_test, target_train, target_test, n=10):\n",
    "    d_train = {}\n",
    "    for l in target_train:\n",
    "        d_train[l] = []\n",
    "    for i in range(len(target_train)):\n",
    "        d_train[target_train[i]].append(np.column_stack([X_train[i], Y_train[i]]))\n",
    "    d_test = {}\n",
    "    for l in target_test:\n",
    "        d_test[l] = []\n",
    "    for i in range(len(target_test)):\n",
    "        d_test[target_test[i]].append(np.column_stack([X_test[i], Y_test[i]]))\n",
    "    d_models = {}\n",
    "    for k in d_train:\n",
    "        train_set = np.concatenate(d_train[k])\n",
    "        length = [d_train[k][0].shape[0]]*len(d_train[k])\n",
    "        d_models[k] = GaussianHMM(n_components=n, n_iter=500).fit(train_set, length)\n",
    "    acc = 0\n",
    "    for k in d_test:\n",
    "        for obs in d_test[k]:\n",
    "            mprob = -100000\n",
    "            let = ''\n",
    "            for m in d_models:\n",
    "                lprob = d_models[m].score(obs)\n",
    "                if lprob>mprob:\n",
    "                    mprob = lprob\n",
    "                    let = m\n",
    "            if k == let:\n",
    "                acc += 1\n",
    "    return 1.0*acc/X_test.shape[0]"
   ]
  },
  {
   "cell_type": "code",
   "execution_count": 221,
   "metadata": {
    "collapsed": false
   },
   "outputs": [
    {
     "name": "stdout",
     "output_type": "stream",
     "text": [
      "0.9875\n",
      "0.975\n",
      "0.966666666667\n",
      "0.971875\n",
      "0.9725\n",
      "0.975\n",
      "0.976785714286\n",
      "0.971875\n",
      "0.966666666667\n",
      "0.965\n",
      "0.965\n"
     ]
    }
   ],
   "source": [
    "X = np.array(inter(Xcon,20))\n",
    "Y = np.array(inter(Ycon,20))\n",
    "Z = np.array(inter(Zcon,20))\n",
    "kf = KFold(len(X), n_folds=10, shuffle=True)\n",
    "scores = []\n",
    "for train_index, test_index in kf:\n",
    "    X_train, X_test = X[train_index], X[test_index]\n",
    "    Y_train, Y_test = Y[train_index], Y[test_index]\n",
    "    Z_train, Z_test = Z[train_index], Z[test_index]\n",
    "    target_train, target_test = target[train_index], target[test_index]\n",
    "    scores.append(HMM_acc(X_train, X_test, Y_train, Y_test, Z_train, Z_test, target_train, target_test, n=14))\n",
    "    print np.mean(scores)\n",
    "print np.mean(scores)"
   ]
  },
  {
   "cell_type": "code",
   "execution_count": null,
   "metadata": {
    "collapsed": false
   },
   "outputs": [],
   "source": []
  },
  {
   "cell_type": "code",
   "execution_count": null,
   "metadata": {
    "collapsed": true
   },
   "outputs": [],
   "source": []
  }
 ],
 "metadata": {
  "kernelspec": {
   "display_name": "Python 2",
   "language": "python",
   "name": "python2"
  },
  "language_info": {
   "codemirror_mode": {
    "name": "ipython",
    "version": 2
   },
   "file_extension": ".py",
   "mimetype": "text/x-python",
   "name": "python",
   "nbconvert_exporter": "python",
   "pygments_lexer": "ipython2",
   "version": "2.7.11"
  }
 },
 "nbformat": 4,
 "nbformat_minor": 0
}
