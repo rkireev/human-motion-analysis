{
 "cells": [
  {
   "cell_type": "code",
   "execution_count": 42,
   "metadata": {
    "collapsed": true
   },
   "outputs": [],
   "source": [
    "import csv\n",
    "import matplotlib.pyplot as plt\n",
    "import numpy as np\n",
    "from scipy.fftpack import fft\n",
    "from scipy.cluster.vq import vq, kmeans, whiten\n",
    "from scipy.interpolate import interp1d\n",
    "from sklearn.cross_validation import KFold\n",
    "from sklearn.svm import SVC\n",
    "\n",
    "Xcon = []\n",
    "Ycon = []\n",
    "Zcon = []\n",
    "target = []\n",
    "with open('dataqm30.csv', 'rb') as csvfile:\n",
    "    letter = ''\n",
    "    reader = csv.reader(csvfile, delimiter=',', quotechar='|')\n",
    "    for row in reader:\n",
    "        letter = row[-1]\n",
    "        target.append(letter)\n",
    "        del row[-1]\n",
    "        frow = np.array(map(float, row))\n",
    "        Xcon.append(np.array(frow[range(0,len(row),3)]))\n",
    "        Ycon.append(np.array(frow[range(1,len(row),3)]))\n",
    "        Zcon.append(np.array(frow[range(2,len(row),3)]))\n",
    "target = np.array(target)\n",
    "\n",
    "def inter(Obs, ndots=100):\n",
    "    interpolated = []\n",
    "    for obs in Obs:\n",
    "        x = np.linspace(0, 100, num=obs.shape[0], endpoint=True)\n",
    "        f = interp1d(x, obs, kind='slinear')\n",
    "        xnew = np.linspace(0, 100, num=ndots, endpoint=True)\n",
    "        interpolated.append(f(xnew))\n",
    "    return interpolated\n",
    "def interfu(Obs, ndots=100):\n",
    "    interpolated = []\n",
    "    for obs in Obs:\n",
    "        l = len(obs)\n",
    "        step = 1.0*l/ndots\n",
    "        xnew = []\n",
    "        i = 1\n",
    "        while (i < l-2):\n",
    "            a = int(i + 0.5)\n",
    "            xnew.append((obs[a-1]+obs[a]+obs[a+1])/3.0)\n",
    "            i = i + step\n",
    "        interpolated.append(xnew)\n",
    "    return interpolated\n",
    "def interfuf(Obs, ndots=100):\n",
    "    interpolated = []\n",
    "    for obs in Obs:\n",
    "        l = len(obs)\n",
    "        step = 1.0*l/ndots\n",
    "        xnew = []\n",
    "        i = 0\n",
    "        while (i < l-1):\n",
    "            a = int(i + 0.5)\n",
    "            if (i==0):\n",
    "                m = (obs[a]+obs[a+1])/2.0\n",
    "            if (i==l-2):\n",
    "                m = (obs[a-1]+obs[a])/2.0\n",
    "            if (i>0) and (i<l-2):\n",
    "                m = (obs[a-1]+obs[a]+obs[a+1])/3.0\n",
    "            xnew.append(m)\n",
    "            i = i + step\n",
    "        interpolated.append(xnew)\n",
    "    return interpolated"
   ]
  },
  {
   "cell_type": "code",
   "execution_count": 47,
   "metadata": {
    "collapsed": false,
    "scrolled": true
   },
   "outputs": [
    {
     "name": "stdout",
     "output_type": "stream",
     "text": [
      "0.970124554245\n"
     ]
    }
   ],
   "source": [
    "from sklearn import cross_validation\n",
    "euc_gram = np.load('euc_kernel.npy')\n",
    "expgram = np.exp(euc_gram*0.05)\n",
    "clf = SVC(C=5, kernel='precomputed', decision_function_shape='ovr')\n",
    "clf.fit(expgram,target)\n",
    "scores = cross_validation.cross_val_score(clf, expgram, target, cv=10)\n",
    "\n",
    "print np.mean(scores)\n"
   ]
  },
  {
   "cell_type": "code",
   "execution_count": 51,
   "metadata": {
    "collapsed": false
   },
   "outputs": [
    {
     "name": "stdout",
     "output_type": "stream",
     "text": [
      "26\n",
      "[0, 30, 57, 85, 116, 145, 173, 201, 226, 252, 280, 309, 337, 366, 392, 421, 448, 485, 517, 545, 574, 604, 630, 660, 689, 718]\n",
      "[30, 57, 85, 116, 145, 173, 201, 226, 252, 280, 309, 337, 366, 392, 421, 448, 485, 517, 545, 574, 604, 630, 660, 689, 718, 743]\n",
      "325\n",
      "743\n"
     ]
    }
   ],
   "source": [
    "\n",
    "params = clf.get_params()\n",
    "sv = clf.support_\n",
    "nv = clf.n_support_\n",
    "a  = clf.dual_coef_\n",
    "b  = clf._intercept_\n",
    "cs = clf.classes_\n",
    "start = [sum(nv[:i]) for i in range(len(nv))]\n",
    "    \n",
    "end = [start[i] + nv[i] for i in range(len(nv))]\n",
    "print len(nv)\n",
    "print start \n",
    "print end\n",
    "cc = []\n",
    "decision = []\n",
    "for i in range(len(nv)):\n",
    "    for j in range(i+1,len(nv)):\n",
    "        fff = 0\n",
    "        for p in range(start[j], end[j]):\n",
    "            fff = fff + a[i][p] * expgram[333][sv[p]]\n",
    "        for p in range(start[i], end[i]):\n",
    "            fff = fff + a[j-1][p] * expgram[333][sv[p]]\n",
    "        cc.append(fff)\n",
    "        \n",
    "print len(b)        \n",
    "\n",
    "decision = [sum(x) for x in zip(cc, b)]\n",
    "                    \n",
    "votes = [(i if decision[p] > 0 else j) for p,(i,j) in  \n",
    "            enumerate((i,j) for i in range(len(cs)) for j in range(i+1,len(cs)))]\n",
    "\n",
    "\n",
    "print len(a[1])\n",
    "# Use the functions to predict\n",
    "#print(predict(params, sv, nv, a, b, cs, ))\n"
   ]
  },
  {
   "cell_type": "code",
   "execution_count": 56,
   "metadata": {
    "collapsed": true
   },
   "outputs": [],
   "source": [
    "sten = [cs]\n",
    "f = open('euc_classes.csv','w')\n",
    "str1 = ''\n",
    "for i in range(len(sten)):\n",
    "    str1 = ''\n",
    "    for val in sten[i]:\n",
    "        str1 += str(val)+','\n",
    "    str1 = str1[:-1]\n",
    "    str1 += '\\n'\n",
    "    f.write(str1)\n",
    "f.close()"
   ]
  },
  {
   "cell_type": "code",
   "execution_count": 36,
   "metadata": {
    "collapsed": false
   },
   "outputs": [
    {
     "name": "stdout",
     "output_type": "stream",
     "text": [
      "50\n"
     ]
    }
   ],
   "source": [
    "from fastdtw import fastdtw\n",
    "from scipy.spatial.distance import euclidean\n",
    "from sklearn import cross_validation\n",
    "def dtw_kernel(X, Y):\n",
    "    kern = []\n",
    "    ccc = 0\n",
    "    for x in X:\n",
    "        row = []\n",
    "        for y in Y:\n",
    "            distance, path = fastdtw(x, y, dist=euclidean)\n",
    "            #distance,b,c = dtw(x, y)\n",
    "            #row.append(np.exp(-gamma*distance))\n",
    "            row.append(-distance)\n",
    "        kern.append(np.array(row))\n",
    "        ccc += 1\n",
    "        if ccc%50==0:\n",
    "            print ccc\n",
    "    #print kern\n",
    "    return np.array(kern)\n",
    "X = interfu(Xcon,20)\n",
    "Y = interfu(Ycon,20)\n",
    "C = []\n",
    "for i in range(len(X)):\n",
    "    C.append(np.vstack((X[i],Y[i])).T)\n",
    "C = np.array(C)\n",
    "gram = dtw_kernel(C, C)\n",
    "np.save('dtw_kernel', np.array(gram))"
   ]
  },
  {
   "cell_type": "code",
   "execution_count": 137,
   "metadata": {
    "collapsed": false
   },
   "outputs": [],
   "source": [
    "np.save('dtw_kernel', np.array(kernel))"
   ]
  },
  {
   "cell_type": "code",
   "execution_count": 57,
   "metadata": {
    "collapsed": false
   },
   "outputs": [],
   "source": [
    "re = np.load('euc_kernel.npy')"
   ]
  },
  {
   "cell_type": "code",
   "execution_count": 43,
   "metadata": {
    "collapsed": false
   },
   "outputs": [
    {
     "name": "stdout",
     "output_type": "stream",
     "text": [
      "50\n",
      "100\n",
      "150\n",
      "200\n",
      "250\n",
      "300\n",
      "350\n",
      "400\n",
      "450\n",
      "500\n",
      "550\n",
      "600\n",
      "650\n",
      "700\n",
      "750\n",
      "800\n"
     ]
    }
   ],
   "source": [
    "from numpy.linalg import norm\n",
    "from scipy.spatial.distance import euclidean\n",
    "from sklearn import cross_validation\n",
    "def euc_kernel(X, Y):\n",
    "    kern = []\n",
    "    ccc = 0\n",
    "    for x in X:\n",
    "        row = []\n",
    "        for y in Y:\n",
    "            distance = 0\n",
    "            for i in range(x.shape[0]):\n",
    "                distance += euclidean(x[i], y[i])\n",
    "            #distance,b,c = dtw(x, y)\n",
    "            #row.append(np.exp(-gamma*distance))\n",
    "            row.append(-distance)\n",
    "        kern.append(np.array(row))\n",
    "        ccc += 1\n",
    "        if ccc%50==0:\n",
    "            print ccc\n",
    "    #print kern\n",
    "    return np.array(kern)\n",
    "X = interfuf(Xcon,20)\n",
    "Y = interfuf(Ycon,20)\n",
    "C = []\n",
    "for i in range(len(X)):\n",
    "    C.append(np.vstack((X[i],Y[i])).T)\n",
    "C = np.array(C)\n",
    "euc_gram = euc_kernel(C, C)\n",
    "np.save('euc_kernel', np.array(euc_gram))"
   ]
  },
  {
   "cell_type": "code",
   "execution_count": null,
   "metadata": {
    "collapsed": true
   },
   "outputs": [],
   "source": []
  }
 ],
 "metadata": {
  "kernelspec": {
   "display_name": "Python 2",
   "language": "python",
   "name": "python2"
  },
  "language_info": {
   "codemirror_mode": {
    "name": "ipython",
    "version": 2
   },
   "file_extension": ".py",
   "mimetype": "text/x-python",
   "name": "python",
   "nbconvert_exporter": "python",
   "pygments_lexer": "ipython2",
   "version": "2.7.11"
  }
 },
 "nbformat": 4,
 "nbformat_minor": 0
}
